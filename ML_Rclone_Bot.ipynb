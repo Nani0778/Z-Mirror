#@title 🔶Bot Setup🔶

Config_ENV_URL = "" #@param {type:"string"}


from os.path import exists, expanduser
from urllib.request import urlretrieve
from IPython.display import clear_output
from google.colab.output import clear


HOME = expanduser("~")
if not exists(f"{HOME}/.ipython/ocr.py"):
    hCode = "https://raw.githubusercontent.com/biplobsd/" \
                "OneClickRun/master/res/ocr.py"
    urlretrieve(hCode, f"{HOME}/.ipython/ocr.py")
from ocr import (
    runSh,
    loadingAn,
)

REPO = "https://github.com/Nani0778/Z-Mirror.git"
CD = REPO.split("/")[-1].replace(".git", "")

# loadingAn()
runSh(f'git clone {REPO}')
%cd $CD
clear()
print("🔶Installing Aria2 and 7zip")
runSh('apt-get install -y aria2 p7zip-rar')
print("🔶Installing Rclone")
runSh('wget https://rclone.org/install.sh')
runSh('sudo bash install.sh')
print("🔶Installing Requirements")
runSh(f'wget -O config.env {Config_ENV_URL}')
runSh('pip install -r requirements.txt')
clear_output()

!python3 -m bot



     

!python3 -m bot
     
